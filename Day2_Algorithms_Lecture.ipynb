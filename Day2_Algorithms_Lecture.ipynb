{
 "cells": [
  {
   "cell_type": "markdown",
   "metadata": {},
   "source": [
    "# Classic Algorithms"
   ]
  },
  {
   "cell_type": "markdown",
   "metadata": {},
   "source": [
    "## Tasks Today:\n",
    " \n",
    "1) <b>In-Place Algorithms</b> <br>\n",
    " &nbsp;&nbsp;&nbsp;&nbsp; a) Syntax <br>\n",
    " &nbsp;&nbsp;&nbsp;&nbsp; a) Out of Place Algorithm <br>\n",
    " &nbsp;&nbsp;&nbsp;&nbsp; b) In-Class Exercise #1 <br>\n",
    "2) <b>Two Pointers</b> <br>\n",
    "3) <b>Sorting Algorithms</b> <br>\n",
    "4) <b>Merge Sort</b> <br>\n",
    " &nbsp;&nbsp;&nbsp;&nbsp; a) Video on Algorithms <br>\n",
    " &nbsp;&nbsp;&nbsp;&nbsp; b) How it Works <br>\n",
    "5) <b>Exercises</b> <br>\n",
    " &nbsp;&nbsp;&nbsp;&nbsp; a) Exercise #1 - Reverse a List in Place Using an In-Place Algorithm <br>\n",
    " &nbsp;&nbsp;&nbsp;&nbsp; b) Exercise #2 - Find Distinct Words <br>\n",
    " &nbsp;&nbsp;&nbsp;&nbsp; c) Exercise #3 - Write a program to implement a Linear Search Algorithm. <br>"
   ]
  },
  {
   "cell_type": "markdown",
   "metadata": {},
   "source": [
    "## In-Place Algorithms"
   ]
  },
  {
   "cell_type": "markdown",
   "metadata": {},
   "source": [
    "#### Syntax"
   ]
  },
  {
   "cell_type": "code",
   "execution_count": 1,
   "metadata": {},
   "outputs": [
    {
     "name": "stdout",
     "output_type": "stream",
     "text": [
      "before swap: [20, 4, 10, 5, 13]\n",
      "after swap: [20, 13, 10, 5, 4]\n"
     ]
    }
   ],
   "source": [
    "# var [1], var [i+1] = var [i+1], var [1]\n",
    "#sometimes known as a swap algorithm\n",
    "\n",
    "def swap(list1, x, y):\n",
    "    list1[x], list1[y] = list1[y], list1[x]\n",
    "    return\n",
    "\n",
    "myList = [20,4,10,5,13]\n",
    "\n",
    "print(f'before swap: {myList}')\n",
    "\n",
    "swap(myList, 1, 4)\n",
    "\n",
    "print(f'after swap: {myList}')\n"
   ]
  },
  {
   "cell_type": "markdown",
   "metadata": {},
   "source": [
    "#### Out of Place Algorithm"
   ]
  },
  {
   "cell_type": "code",
   "execution_count": 2,
   "metadata": {},
   "outputs": [
    {
     "name": "stdout",
     "output_type": "stream",
     "text": [
      "before swap: [20, 4, 10, 5, 13]\n",
      "after swap: [20, 4, 10, 5, 13]\n",
      "[20, 13, 10, 5, 4]\n"
     ]
    }
   ],
   "source": [
    "# not swap but return a copy\n",
    "\n",
    "def notSwap(list1,x ,y):\n",
    "    list2 = list1[::]\n",
    "    list2[x], list2[y] = list2[y], list2[x]\n",
    "    return list2\n",
    "\n",
    "myList = [20,4,10,5,13]\n",
    "\n",
    "print(f'before swap: {myList}')\n",
    "\n",
    "out = notSwap(myList, 1, 4)\n",
    "\n",
    "print(f'after swap: {myList}')\n",
    "print(out)"
   ]
  },
  {
   "cell_type": "markdown",
   "metadata": {},
   "source": [
    "#### In-Class Exercise #1 <br>\n",
    "<p>Write a function that takes in four arguments (list, index1, index2, index3), and swaps those three positions in the list passed in.</p>"
   ]
  },
  {
   "cell_type": "code",
   "execution_count": 3,
   "metadata": {},
   "outputs": [
    {
     "name": "stdout",
     "output_type": "stream",
     "text": [
      "[10, 8, 3, 2, 4, 4, 6]\n"
     ]
    }
   ],
   "source": [
    "l_1 = [10, 4, 3, 8, 4, 2, 6]\n",
    "\n",
    "def swap(list, index1, index2, index3):\n",
    "    list[index1], list[index3], list[index2] = list[index3], list[index2], list[index1]\n",
    "    return\n",
    "\n",
    "swap(l_1, 1, 5, 3)\n",
    "print(l_1)\n",
    "    \n"
   ]
  },
  {
   "cell_type": "markdown",
   "metadata": {},
   "source": [
    "## Two Pointers"
   ]
  },
  {
   "cell_type": "markdown",
   "metadata": {},
   "source": [
    "#### Syntax"
   ]
  },
  {
   "cell_type": "code",
   "execution_count": 4,
   "metadata": {},
   "outputs": [
    {
     "name": "stdout",
     "output_type": "stream",
     "text": [
      "[18, 17, 16, 15, 5, 4, 3, 2, 1]\n"
     ]
    }
   ],
   "source": [
    "def twoPointer(list1):\n",
    "    #create pointers for the list\n",
    "    lp = 0\n",
    "    rp = len(list1)-1\n",
    "    while lp <= rp:\n",
    "        list1[lp], list1[rp] = list1[rp], list1[lp]\n",
    "        lp += 1\n",
    "        rp -= 1\n",
    "    return\n",
    "\n",
    "some_list = [1,2,3,4,5,15,16,17,18]\n",
    "twoPointer(some_list)\n",
    "print(some_list)"
   ]
  },
  {
   "cell_type": "markdown",
   "metadata": {},
   "source": [
    "#### Video of Algorithms <br>\n",
    "<p>Watch the video about algorithms.</p>\n",
    "\n",
    "https://www.youtube.com/watch?v=Q9HjeFD62Uk\n",
    "\n",
    "https://www.youtube.com/watch?v=kPRA0W1kECg\n",
    "\n",
    "https://www.youtube.com/watch?v=ZZuD6iUe3Pc"
   ]
  },
  {
   "cell_type": "markdown",
   "metadata": {},
   "source": [
    "# Sorting Algorithms"
   ]
  },
  {
   "cell_type": "code",
   "execution_count": null,
   "metadata": {},
   "outputs": [],
   "source": []
  },
  {
   "cell_type": "markdown",
   "metadata": {},
   "source": [
    "#### Bubble Sort\n",
    "\n",
    "Worst Case: O(n^2) Time - O(1) Space\n",
    "\n",
    "\n"
   ]
  },
  {
   "cell_type": "code",
   "execution_count": 6,
   "metadata": {},
   "outputs": [
    {
     "name": "stdout",
     "output_type": "stream",
     "text": [
      "[0, 5, 6, 7, 9, 10, 11, 12]\n"
     ]
    }
   ],
   "source": [
    "def swap(list1, i, j):\n",
    "    list1[i], list1[j] = list1[j], list1[i]\n",
    "\n",
    "def bubbleSort(list1):\n",
    "    isSorted = False\n",
    "    count = 0\n",
    "    #loop through the list WITH the index\n",
    "\n",
    "    while isSorted ==False:\n",
    "        for i in range(len(list1)-1-count):\n",
    "            #if element at index i is larger than the element directly to the right.. then swap\n",
    "            if list1[i] > list1[i+1]:\n",
    "                #swap elements\n",
    "                swap(list1, i , i+1)\n",
    "                #continue with loop\n",
    "        #done with for loop\n",
    "        count +=1\n",
    "        if count == len(list1) - 1:\n",
    "            isSorted = True\n",
    "\n",
    "    return\n",
    "\n",
    "test1 = [0,7,6,5,9,10,11,12]\n",
    "bubbleSort(test1)\n",
    "print(test1)"
   ]
  },
  {
   "cell_type": "markdown",
   "metadata": {},
   "source": [
    "##### Insertion Sort\n",
    "\n",
    "Worst Case: O(n^2) time - O(1)space"
   ]
  },
  {
   "cell_type": "code",
   "execution_count": 9,
   "metadata": {},
   "outputs": [
    {
     "name": "stdout",
     "output_type": "stream",
     "text": [
      "[1, 2, 19, 21, 22, 22, 29]\n"
     ]
    }
   ],
   "source": [
    "def swap(list1, i, j):\n",
    "    list1[i], list1[j] = list1[j], list1[i]\n",
    "\n",
    "def insertionSort(l1):\n",
    "    for i in range(1,len(l1)):\n",
    "        j = i\n",
    "        while j > 0 and l1[j] < l1[j-1]:\n",
    "            swap(l1, j, j-1)\n",
    "            j -= 1\n",
    "\n",
    "    return\n",
    "\n",
    "test2 = [1,21,2,22,19,29,22]\n",
    "\n",
    "insertionSort(test2)\n",
    "print(test2)"
   ]
  },
  {
   "cell_type": "markdown",
   "metadata": {},
   "source": [
    "## Merge Sort"
   ]
  },
  {
   "cell_type": "markdown",
   "metadata": {},
   "source": [
    "#### How it Works"
   ]
  },
  {
   "cell_type": "code",
   "execution_count": 16,
   "metadata": {},
   "outputs": [
    {
     "name": "stdout",
     "output_type": "stream",
     "text": [
      "[1, 2, 3, 4, 12, 45, 65, 66, 69, 88, 99, 100]\n"
     ]
    }
   ],
   "source": [
    "#step 1 split everything into its own group\n",
    "#step 2 from left to right merge the group togehter\n",
    "#step 3 while merging place each item into the correct position within the merged groups\n",
    "#step 4 continue step 3-4 until 1 group is left\n",
    "\n",
    "def mergeSort(l1):\n",
    "    #step 1\n",
    "    if len(l1) > 1:\n",
    "        mid = len(l1) // 2\n",
    "        lefthalf = l1[:mid]\n",
    "        righthalf = l1[mid:]\n",
    "\n",
    "        #recursively split left and right halves (if needed) step 4\n",
    "        mergeSort(lefthalf)\n",
    "        mergeSort(righthalf)\n",
    "\n",
    "        #index pointers for our lists\n",
    "        i=0 #pointer for left side\n",
    "        j=0 #pointer for right side\n",
    "        k=0 #pointer for the main list\n",
    "\n",
    "        #step 2 compare left and right halves\n",
    "        while i < len(lefthalf) and j < len(righthalf):\n",
    "            if lefthalf[i] < righthalf[j]:\n",
    "                l1[k] = lefthalf[i]\n",
    "                i+=1\n",
    "            else:\n",
    "                l1[k] = righthalf[j]\n",
    "                j += 1\n",
    "            k += 1\n",
    "\n",
    "        #step 3 while one side is done add other side to main array\n",
    "        #left half finish\n",
    "        while i<len(lefthalf):\n",
    "            l1[k] = lefthalf[i]\n",
    "            i+=1\n",
    "            k+=1\n",
    "        while j<len(righthalf):\n",
    "            l1[k] = righthalf[j]\n",
    "            j+=1\n",
    "            k+=1\n",
    "    return l1\n",
    "\n",
    "test3 = [100,99,88,12,1,2,3,4,66,45,65,69]\n",
    "mergeSort(test3)\n",
    "print(test3)\n",
    "\n",
    "\n",
    "\n"
   ]
  },
  {
   "cell_type": "markdown",
   "metadata": {},
   "source": [
    "# Binary Search\n",
    "\n",
    "The Binary Search algorithm works by finding the number in the middle of a given array and comparing it to the target. Given that the array is sorted\n",
    "\n",
    "* The worst case run time for this algorithm is `O(log(n))`"
   ]
  },
  {
   "cell_type": "code",
   "execution_count": 19,
   "metadata": {},
   "outputs": [
    {
     "data": {
      "text/plain": [
       "'I found my match 34 at index 11'"
      ]
     },
     "execution_count": 19,
     "metadata": {},
     "output_type": "execute_result"
    }
   ],
   "source": [
    "# list must be sorted in order for this to work\n",
    "\n",
    "\n",
    "\n",
    "def binarySearchHelper(list1, target, left, right):\n",
    "    while left <= right:\n",
    "        middle = (left+right) // 2\n",
    "        guess = list1[middle]\n",
    "\n",
    "        if target == guess:\n",
    "            return f'I found my match {guess} at index {middle}'\n",
    "\n",
    "        elif target < guess:\n",
    "            right = middle - 1\n",
    "        else:\n",
    "            left = middle + 1\n",
    "    return \"could not find what you were looking for\"\n",
    "\n",
    "def binarySearch(list1, target):\n",
    "    return binarySearchHelper(list1, target, 0, len(list1)-1)\n",
    "\n",
    "binarySearch([1,1,1,2,2,2,3,3,3,3,23,34,44,55,100,122,134,480,666,999], 34) \n"
   ]
  },
  {
   "cell_type": "markdown",
   "metadata": {},
   "source": [
    "# Exercises"
   ]
  },
  {
   "cell_type": "markdown",
   "metadata": {},
   "source": [
    "### Exercise #1 <br>\n",
    "<p>Reverse the list below in-place using an in-place algorithm.<br>For extra credit: Reverse the strings at the same time.</p>"
   ]
  },
  {
   "cell_type": "code",
   "execution_count": 3,
   "metadata": {},
   "outputs": [
    {
     "name": "stdout",
     "output_type": "stream",
     "text": [
      "['.', 'ecnetnes', 'a', 'si', 'siht']\n"
     ]
    }
   ],
   "source": [
    "words = ['this' , 'is', 'a', 'sentence', '.']\n",
    "\n",
    "def swap(l_1, i1, i2):\n",
    "    l_1[i1], l_1[i2] = l_1[i2][::-1], l_1[i1][::-1]\n",
    "\n",
    "def reverseMe(list1):\n",
    "    left = 0\n",
    "    right = len(list1) - 1\n",
    "\n",
    "    while left < right:\n",
    "        swap(list1, left, right)\n",
    "        left +=1\n",
    "        right -=1\n",
    "    \n",
    "    return\n",
    "\n",
    "reverseMe(words)\n",
    "print(words)"
   ]
  },
  {
   "cell_type": "markdown",
   "metadata": {},
   "source": [
    "### Exercise #2 <br>\n",
    "<p>Create a function that counts how many distinct words are in the string below, then outputs a dictionary with the words as the key and the value as the amount of times that word appears in the string.<br>Should output:<br>{'a': 5,<br>\n",
    " 'abstract': 1,<br>\n",
    " 'an': 3,<br>\n",
    " 'array': 2, ... etc...</p>"
   ]
  },
  {
   "cell_type": "code",
   "execution_count": 15,
   "metadata": {},
   "outputs": [
    {
     "data": {
      "text/plain": [
       "{'in': 1,\n",
       " 'computing': 1,\n",
       " 'a': 5,\n",
       " 'hash': 4,\n",
       " 'table': 2,\n",
       " 'map': 2,\n",
       " 'is': 1,\n",
       " 'data': 2,\n",
       " 'structure': 2,\n",
       " 'which': 2,\n",
       " 'implements': 1,\n",
       " 'an': 3,\n",
       " 'associative': 1,\n",
       " 'array': 2,\n",
       " 'abstract': 1,\n",
       " 'type': 1,\n",
       " 'that': 1,\n",
       " 'can': 2,\n",
       " 'keys': 1,\n",
       " 'to': 2,\n",
       " 'values': 1,\n",
       " 'uses': 1,\n",
       " 'function': 1,\n",
       " 'compute': 1,\n",
       " 'index': 1,\n",
       " 'into': 1,\n",
       " 'of': 1,\n",
       " 'buckets': 1,\n",
       " 'or': 1,\n",
       " 'slots': 1,\n",
       " 'from': 1,\n",
       " 'the': 1,\n",
       " 'desired': 1,\n",
       " 'value': 1,\n",
       " 'be': 1,\n",
       " 'found': 1}"
      ]
     },
     "execution_count": 15,
     "metadata": {},
     "output_type": "execute_result"
    }
   ],
   "source": [
    "a_text = 'In computing, a hash table hash map is a data structure which implements an associative array abstract data type, a structure that can map keys to values. A hash table uses a hash function to compute an index into an array of buckets or slots from which the desired value can be found'\n",
    "\n",
    "def countWords(sentence):\n",
    "    list_of_words = sentence.split()\n",
    "    d = {}\n",
    "    for word in list_of_words:\n",
    "        cleaned_word = word.lower().rstrip('!.,;:?')\n",
    "        if cleaned_word in d:\n",
    "            d[cleaned_word] +=1\n",
    "        else:\n",
    "            d[cleaned_word] =1\n",
    "    return d\n",
    "\n",
    "\n",
    "\n",
    "countWords(a_text)"
   ]
  },
  {
   "cell_type": "markdown",
   "metadata": {},
   "source": [
    "## Exercise #3\n",
    "\n",
    "Write a program to implement a Linear Search Algorithm. Also in a comment, write the Time Complexity of the following algorithm.\n",
    "\n",
    "#### Hint: Linear Searching will require searching a list for a given number. "
   ]
  },
  {
   "cell_type": "code",
   "execution_count": 22,
   "metadata": {},
   "outputs": [
    {
     "data": {
      "text/plain": [
       "'I found the target 69 at index 19'"
      ]
     },
     "execution_count": 22,
     "metadata": {},
     "output_type": "execute_result"
    }
   ],
   "source": [
    "def linearSearch(list1, target):\n",
    "    for index in range(len(list1)):\n",
    "        if target == list1[index]:\n",
    "            return f'I found the target {target} at index {index}'\n",
    "    return f\"Target {target} not found in the given list\"\n",
    "\n",
    "linearSearch([12,42,42,35,2,56,324,2,43,2,21,42643,33,453645,342,785,6,85,9,69,432], 69)"
   ]
  }
 ],
 "metadata": {
  "kernelspec": {
   "display_name": "Python 3",
   "language": "python",
   "name": "python3"
  },
  "language_info": {
   "codemirror_mode": {
    "name": "ipython",
    "version": 3
   },
   "file_extension": ".py",
   "mimetype": "text/x-python",
   "name": "python",
   "nbconvert_exporter": "python",
   "pygments_lexer": "ipython3",
   "version": "3.8.9"
  }
 },
 "nbformat": 4,
 "nbformat_minor": 2
}
